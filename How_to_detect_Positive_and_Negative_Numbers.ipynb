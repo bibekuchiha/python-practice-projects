{
  "nbformat": 4,
  "nbformat_minor": 0,
  "metadata": {
    "colab": {
      "name": "How to detect Positive and Negative Numbers.ipynb",
      "provenance": [],
      "authorship_tag": "ABX9TyMJnBbdpBYtaX5ypAjCIzLa",
      "include_colab_link": true
    },
    "kernelspec": {
      "name": "python3",
      "display_name": "Python 3"
    }
  },
  "cells": [
    {
      "cell_type": "markdown",
      "metadata": {
        "id": "view-in-github",
        "colab_type": "text"
      },
      "source": [
        "<a href=\"https://colab.research.google.com/github/bibekuchiha/python-practice-projects/blob/master/How_to_detect_Positive_and_Negative_Numbers.ipynb\" target=\"_parent\"><img src=\"https://colab.research.google.com/assets/colab-badge.svg\" alt=\"Open In Colab\"/></a>"
      ]
    },
    {
      "cell_type": "code",
      "metadata": {
        "id": "0FzF7zMHJXCv",
        "colab_type": "code",
        "outputId": "e98a86e6-edec-4f25-dee9-e38f1e135edf",
        "colab": {
          "base_uri": "https://localhost:8080/",
          "height": 52
        }
      },
      "source": [
        "number = float(input(\"Enter a Number: \"))\n",
        "\n",
        "if number<0:\n",
        "  print(\"This is a NEGATIVE Number\")\n",
        "elif number>0:\n",
        "  print(\"This is a POSITIVE Number\")\n",
        "else:\n",
        "  print(\"This Number is Zero\")"
      ],
      "execution_count": 0,
      "outputs": [
        {
          "output_type": "stream",
          "text": [
            "Enter a Number: -0\n",
            "This Number is Zero\n"
          ],
          "name": "stdout"
        }
      ]
    },
    {
      "cell_type": "code",
      "metadata": {
        "id": "aR25VZZHJ9xB",
        "colab_type": "code",
        "colab": {}
      },
      "source": [
        ""
      ],
      "execution_count": 0,
      "outputs": []
    }
  ]
}