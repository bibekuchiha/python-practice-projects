{
  "nbformat": 4,
  "nbformat_minor": 0,
  "metadata": {
    "colab": {
      "name": " Practice 4. How to check for divisibility of a Number.ipynb",
      "provenance": [],
      "authorship_tag": "ABX9TyP3/k3yXkb67uHNI3yK180R",
      "include_colab_link": true
    },
    "kernelspec": {
      "name": "python3",
      "display_name": "Python 3"
    }
  },
  "cells": [
    {
      "cell_type": "markdown",
      "metadata": {
        "id": "view-in-github",
        "colab_type": "text"
      },
      "source": [
        "<a href=\"https://colab.research.google.com/github/bibekuchiha/python-practice-projects/blob/master/Practice_4_How_to_check_for_divisibility_of_a_Number.ipynb\" target=\"_parent\"><img src=\"https://colab.research.google.com/assets/colab-badge.svg\" alt=\"Open In Colab\"/></a>"
      ]
    },
    {
      "cell_type": "code",
      "metadata": {
        "id": "--2UeXiFZ-4k",
        "colab_type": "code",
        "colab": {
          "base_uri": "https://localhost:8080/",
          "height": 86
        },
        "outputId": "0522431f-a54f-4d62-ea3a-88ddefc99b4c"
      },
      "source": [
        "x = int(input(\"Enter a numerator value :\"))\n",
        "\n",
        "y = int(input(\"Enter a denominator value :\"))\n",
        "\n",
        "if x%y == 0:\n",
        "  print(x, 'Is divisible by :', y)\n",
        "  print('The result is :', int(x/y))\n",
        "else:\n",
        "    print(x, 'Is not divisible by :', y)\n",
        "\n"
      ],
      "execution_count": 7,
      "outputs": [
        {
          "output_type": "stream",
          "text": [
            "Enter a numerator value :200\n",
            "Enter a denominator value :10\n",
            "200 Is divisible by : 10\n",
            "The result is : 20\n"
          ],
          "name": "stdout"
        }
      ]
    },
    {
      "cell_type": "code",
      "metadata": {
        "id": "81Tgwiiaa_7C",
        "colab_type": "code",
        "colab": {}
      },
      "source": [
        ""
      ],
      "execution_count": null,
      "outputs": []
    }
  ]
}