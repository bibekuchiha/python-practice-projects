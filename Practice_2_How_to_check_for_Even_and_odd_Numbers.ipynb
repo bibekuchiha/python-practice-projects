{
  "nbformat": 4,
  "nbformat_minor": 0,
  "metadata": {
    "colab": {
      "name": "Practice 2. How to check for Even and odd Numbers.ipynb",
      "provenance": [],
      "collapsed_sections": [],
      "authorship_tag": "ABX9TyOPlGrlfG795BzldGRNzKei",
      "include_colab_link": true
    },
    "kernelspec": {
      "name": "python3",
      "display_name": "Python 3"
    }
  },
  "cells": [
    {
      "cell_type": "markdown",
      "metadata": {
        "id": "view-in-github",
        "colab_type": "text"
      },
      "source": [
        "<a href=\"https://colab.research.google.com/github/bibekuchiha/python-practice-projects/blob/master/Practice_2_How_to_check_for_Even_and_odd_Numbers.ipynb\" target=\"_parent\"><img src=\"https://colab.research.google.com/assets/colab-badge.svg\" alt=\"Open In Colab\"/></a>"
      ]
    },
    {
      "cell_type": "code",
      "metadata": {
        "id": "zut-0EvrLoGo",
        "colab_type": "code",
        "colab": {
          "base_uri": "https://localhost:8080/",
          "height": 52
        },
        "outputId": "7cbcc7c0-5da4-4cd3-8903-1ac63ad0d288"
      },
      "source": [
        "number = int(input(\"Enter a Number : \"))\n",
        "\n",
        "if number % 2 == 0:\n",
        "  print('This is an Even Number')\n",
        "else:\n",
        "  print('This is an Odd Number')"
      ],
      "execution_count": 3,
      "outputs": [
        {
          "output_type": "stream",
          "text": [
            "Enter a Number : 0\n",
            "This is an Even Number\n"
          ],
          "name": "stdout"
        }
      ]
    }
  ]
}