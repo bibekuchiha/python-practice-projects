{
  "nbformat": 4,
  "nbformat_minor": 0,
  "metadata": {
    "colab": {
      "name": "Practice 5. How to convert from Celsius to Fahrenheit.ipynb",
      "provenance": [],
      "authorship_tag": "ABX9TyN7OlS5nBV7LMH8FAiXTHpm",
      "include_colab_link": true
    },
    "kernelspec": {
      "name": "python3",
      "display_name": "Python 3"
    }
  },
  "cells": [
    {
      "cell_type": "markdown",
      "metadata": {
        "id": "view-in-github",
        "colab_type": "text"
      },
      "source": [
        "<a href=\"https://colab.research.google.com/github/bibekuchiha/python-practice-projects/blob/master/Practice_5_How_to_convert_from_Celsius_to_Fahrenheit.ipynb\" target=\"_parent\"><img src=\"https://colab.research.google.com/assets/colab-badge.svg\" alt=\"Open In Colab\"/></a>"
      ]
    },
    {
      "cell_type": "code",
      "metadata": {
        "id": "rBLD8B0lcKzv",
        "colab_type": "code",
        "colab": {
          "base_uri": "https://localhost:8080/",
          "height": 52
        },
        "outputId": "19e9f041-ab46-461f-ff36-e899c164a6d7"
      },
      "source": [
        "x = int(input(\"Insert a value in Celsius: \"))\n",
        "\n",
        "x = round(x*(9/5) + 32 )\n",
        "print('The temperature in Fahrenheit is: ',str(x) + 'F')"
      ],
      "execution_count": 3,
      "outputs": [
        {
          "output_type": "stream",
          "text": [
            "Insert a value in Celsius: 21\n",
            "The temperature in Fahrenheit is:  70F\n"
          ],
          "name": "stdout"
        }
      ]
    }
  ]
}