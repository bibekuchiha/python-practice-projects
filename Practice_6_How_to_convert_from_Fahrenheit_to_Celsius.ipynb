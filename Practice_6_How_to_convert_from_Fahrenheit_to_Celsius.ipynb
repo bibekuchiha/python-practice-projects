{
  "nbformat": 4,
  "nbformat_minor": 0,
  "metadata": {
    "colab": {
      "name": "Practice 6. How to convert from Fahrenheit to Celsius.ipynb",
      "provenance": [],
      "authorship_tag": "ABX9TyOjrRoGjd16V8LC7Bhzi2l3",
      "include_colab_link": true
    },
    "kernelspec": {
      "name": "python3",
      "display_name": "Python 3"
    }
  },
  "cells": [
    {
      "cell_type": "markdown",
      "metadata": {
        "id": "view-in-github",
        "colab_type": "text"
      },
      "source": [
        "<a href=\"https://colab.research.google.com/github/bibekuchiha/python-practice-projects/blob/master/Practice_6_How_to_convert_from_Fahrenheit_to_Celsius.ipynb\" target=\"_parent\"><img src=\"https://colab.research.google.com/assets/colab-badge.svg\" alt=\"Open In Colab\"/></a>"
      ]
    },
    {
      "cell_type": "code",
      "metadata": {
        "id": "j8IGjtiedkdD",
        "colab_type": "code",
        "colab": {
          "base_uri": "https://localhost:8080/",
          "height": 52
        },
        "outputId": "d89c75ec-0b6f-4de7-fbfc-6ee422d85b08"
      },
      "source": [
        "x = int(input('Enter value in Fahrenheit :'))\n",
        "\n",
        "x = round((x-32)*(5/9))\n",
        "\n",
        "print('The temperature in Celsius is :', str(x) + 'C')"
      ],
      "execution_count": 5,
      "outputs": [
        {
          "output_type": "stream",
          "text": [
            "Enter value in Fahrenheit :90\n",
            "The temperature in Celsius is : 32C\n"
          ],
          "name": "stdout"
        }
      ]
    }
  ]
}