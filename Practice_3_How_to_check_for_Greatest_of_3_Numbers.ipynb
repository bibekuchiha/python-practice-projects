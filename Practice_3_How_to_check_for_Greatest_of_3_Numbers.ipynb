{
  "nbformat": 4,
  "nbformat_minor": 0,
  "metadata": {
    "colab": {
      "name": "Practice 3. How to check for Greatest of 3 Numbers.ipynb",
      "provenance": [],
      "authorship_tag": "ABX9TyO3bvjBekIEmWpfvicYhRMh",
      "include_colab_link": true
    },
    "kernelspec": {
      "name": "python3",
      "display_name": "Python 3"
    }
  },
  "cells": [
    {
      "cell_type": "markdown",
      "metadata": {
        "id": "view-in-github",
        "colab_type": "text"
      },
      "source": [
        "<a href=\"https://colab.research.google.com/github/bibekuchiha/python-practice-projects/blob/master/Practice_3_How_to_check_for_Greatest_of_3_Numbers.ipynb\" target=\"_parent\"><img src=\"https://colab.research.google.com/assets/colab-badge.svg\" alt=\"Open In Colab\"/></a>"
      ]
    },
    {
      "cell_type": "code",
      "metadata": {
        "id": "AXAj34xENkk0",
        "colab_type": "code",
        "colab": {
          "base_uri": "https://localhost:8080/",
          "height": 86
        },
        "outputId": "e60edb8c-b5f3-482c-b54d-4c437340f6a6"
      },
      "source": [
        "num1 = int(input(\"Enter first Number\"))\n",
        "\n",
        "num2 = int(input(\"Enter Second Number\"))\n",
        "\n",
        "num3 = int(input(\"Enter Third Number\"))\n",
        "\n",
        "\n",
        "print('The maximum number is :', end='')\n",
        "if num2<=num1>=num3:\n",
        "  print(num1)\n",
        "elif num1<=num2>=num3:\n",
        "  print(num2)\n",
        "elif num1<=num3>=num2:\n",
        "  print(num3)\n"
      ],
      "execution_count": 3,
      "outputs": [
        {
          "output_type": "stream",
          "text": [
            "Enter first Number2\n",
            "Enter Second Number5\n",
            "Enter Third Number8\n",
            "The maximum number is :8\n"
          ],
          "name": "stdout"
        }
      ]
    }
  ]
}